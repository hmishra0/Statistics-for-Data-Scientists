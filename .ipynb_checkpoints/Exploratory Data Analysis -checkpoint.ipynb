{
 "cells": [
  {
   "cell_type": "code",
   "execution_count": 6,
   "metadata": {},
   "outputs": [
    {
     "data": {
      "text/html": [
       "<table>\n",
       "<thead><tr><th scope=col>State</th><th scope=col>Population</th><th scope=col>Murder.Rate</th><th scope=col>Abbreviation</th></tr></thead>\n",
       "<tbody>\n",
       "\t<tr><td>Alabama       </td><td> 4779736      </td><td> 5.7          </td><td>AL            </td></tr>\n",
       "\t<tr><td>Alaska        </td><td>  710231      </td><td> 5.6          </td><td>AK            </td></tr>\n",
       "\t<tr><td>Arizona       </td><td> 6392017      </td><td> 4.7          </td><td>AZ            </td></tr>\n",
       "\t<tr><td>Arkansas      </td><td> 2915918      </td><td> 5.6          </td><td>AR            </td></tr>\n",
       "\t<tr><td>California    </td><td>37253956      </td><td> 4.4          </td><td>CA            </td></tr>\n",
       "\t<tr><td>Colorado      </td><td> 5029196      </td><td> 2.8          </td><td>CO            </td></tr>\n",
       "\t<tr><td>Connecticut   </td><td> 3574097      </td><td> 2.4          </td><td>CT            </td></tr>\n",
       "\t<tr><td>Delaware      </td><td>  897934      </td><td> 5.8          </td><td>DE            </td></tr>\n",
       "\t<tr><td>Florida       </td><td>18801310      </td><td> 5.8          </td><td>FL            </td></tr>\n",
       "\t<tr><td>Georgia       </td><td> 9687653      </td><td> 5.7          </td><td>GA            </td></tr>\n",
       "\t<tr><td>Hawaii        </td><td> 1360301      </td><td> 1.8          </td><td>HI            </td></tr>\n",
       "\t<tr><td>Idaho         </td><td> 1567582      </td><td> 2.0          </td><td>ID            </td></tr>\n",
       "\t<tr><td>Illinois      </td><td>12830632      </td><td> 5.3          </td><td>IL            </td></tr>\n",
       "\t<tr><td>Indiana       </td><td> 6483802      </td><td> 5.0          </td><td>IN            </td></tr>\n",
       "\t<tr><td>Iowa          </td><td> 3046355      </td><td> 1.9          </td><td>IA            </td></tr>\n",
       "\t<tr><td>Kansas        </td><td> 2853118      </td><td> 3.1          </td><td>KS            </td></tr>\n",
       "\t<tr><td>Kentucky      </td><td> 4339367      </td><td> 3.6          </td><td>KY            </td></tr>\n",
       "\t<tr><td>Louisiana     </td><td> 4533372      </td><td>10.3          </td><td>LA            </td></tr>\n",
       "\t<tr><td>Maine         </td><td> 1328361      </td><td> 1.6          </td><td>ME            </td></tr>\n",
       "\t<tr><td>Maryland      </td><td> 5773552      </td><td> 6.1          </td><td>MD            </td></tr>\n",
       "\t<tr><td>Massachusetts </td><td> 6547629      </td><td> 2.0          </td><td>MA            </td></tr>\n",
       "\t<tr><td>Michigan      </td><td> 9883640      </td><td> 5.4          </td><td>MI            </td></tr>\n",
       "\t<tr><td>Minnesota     </td><td> 5303925      </td><td> 1.6          </td><td>MN            </td></tr>\n",
       "\t<tr><td>Mississippi   </td><td> 2967297      </td><td> 8.6          </td><td>MS            </td></tr>\n",
       "\t<tr><td>Missouri      </td><td> 5988927      </td><td> 6.6          </td><td>MO            </td></tr>\n",
       "\t<tr><td>Montana       </td><td>  989415      </td><td> 3.6          </td><td>MT            </td></tr>\n",
       "\t<tr><td>Nebraska      </td><td> 1826341      </td><td> 2.9          </td><td>NE            </td></tr>\n",
       "\t<tr><td>Nevada        </td><td> 2700551      </td><td> 6.0          </td><td>NV            </td></tr>\n",
       "\t<tr><td>New Hampshire </td><td> 1316470      </td><td> 0.9          </td><td>NH            </td></tr>\n",
       "\t<tr><td>New Jersey    </td><td> 8791894      </td><td> 3.9          </td><td>NJ            </td></tr>\n",
       "\t<tr><td>New Mexico    </td><td> 2059179      </td><td> 4.8          </td><td>NM            </td></tr>\n",
       "\t<tr><td>New York      </td><td>19378102      </td><td> 3.1          </td><td>NY            </td></tr>\n",
       "\t<tr><td>North Carolina</td><td> 9535483      </td><td> 5.1          </td><td>NC            </td></tr>\n",
       "\t<tr><td>North Dakota  </td><td>  672591      </td><td> 3.0          </td><td>ND            </td></tr>\n",
       "\t<tr><td>Ohio          </td><td>11536504      </td><td> 4.0          </td><td>OH            </td></tr>\n",
       "\t<tr><td>Oklahoma      </td><td> 3751351      </td><td> 4.5          </td><td>OK            </td></tr>\n",
       "\t<tr><td>Oregon        </td><td> 3831074      </td><td> 2.0          </td><td>OR            </td></tr>\n",
       "\t<tr><td>Pennsylvania  </td><td>12702379      </td><td> 4.8          </td><td>PA            </td></tr>\n",
       "\t<tr><td>Rhode Island  </td><td> 1052567      </td><td> 2.4          </td><td>RI            </td></tr>\n",
       "\t<tr><td>South Carolina</td><td> 4625364      </td><td> 6.4          </td><td>SC            </td></tr>\n",
       "\t<tr><td>South Dakota  </td><td>  814180      </td><td> 2.3          </td><td>SD            </td></tr>\n",
       "\t<tr><td>Tennessee     </td><td> 6346105      </td><td> 5.7          </td><td>TN            </td></tr>\n",
       "\t<tr><td>Texas         </td><td>25145561      </td><td> 4.4          </td><td>TX            </td></tr>\n",
       "\t<tr><td>Utah          </td><td> 2763885      </td><td> 2.3          </td><td>UT            </td></tr>\n",
       "\t<tr><td>Vermont       </td><td>  625741      </td><td> 1.6          </td><td>VT            </td></tr>\n",
       "\t<tr><td>Virginia      </td><td> 8001024      </td><td> 4.1          </td><td>VA            </td></tr>\n",
       "\t<tr><td>Washington    </td><td> 6724540      </td><td> 2.5          </td><td>WA            </td></tr>\n",
       "\t<tr><td>West Virginia </td><td> 1852994      </td><td> 4.0          </td><td>WV            </td></tr>\n",
       "\t<tr><td>Wisconsin     </td><td> 5686986      </td><td> 2.9          </td><td>WI            </td></tr>\n",
       "\t<tr><td>Wyoming       </td><td>  563626      </td><td> 2.7          </td><td>WY            </td></tr>\n",
       "</tbody>\n",
       "</table>\n"
      ],
      "text/latex": [
       "\\begin{tabular}{r|llll}\n",
       " State & Population & Murder.Rate & Abbreviation\\\\\n",
       "\\hline\n",
       "\t Alabama        &  4779736       &  5.7           & AL            \\\\\n",
       "\t Alaska         &   710231       &  5.6           & AK            \\\\\n",
       "\t Arizona        &  6392017       &  4.7           & AZ            \\\\\n",
       "\t Arkansas       &  2915918       &  5.6           & AR            \\\\\n",
       "\t California     & 37253956       &  4.4           & CA            \\\\\n",
       "\t Colorado       &  5029196       &  2.8           & CO            \\\\\n",
       "\t Connecticut    &  3574097       &  2.4           & CT            \\\\\n",
       "\t Delaware       &   897934       &  5.8           & DE            \\\\\n",
       "\t Florida        & 18801310       &  5.8           & FL            \\\\\n",
       "\t Georgia        &  9687653       &  5.7           & GA            \\\\\n",
       "\t Hawaii         &  1360301       &  1.8           & HI            \\\\\n",
       "\t Idaho          &  1567582       &  2.0           & ID            \\\\\n",
       "\t Illinois       & 12830632       &  5.3           & IL            \\\\\n",
       "\t Indiana        &  6483802       &  5.0           & IN            \\\\\n",
       "\t Iowa           &  3046355       &  1.9           & IA            \\\\\n",
       "\t Kansas         &  2853118       &  3.1           & KS            \\\\\n",
       "\t Kentucky       &  4339367       &  3.6           & KY            \\\\\n",
       "\t Louisiana      &  4533372       & 10.3           & LA            \\\\\n",
       "\t Maine          &  1328361       &  1.6           & ME            \\\\\n",
       "\t Maryland       &  5773552       &  6.1           & MD            \\\\\n",
       "\t Massachusetts  &  6547629       &  2.0           & MA            \\\\\n",
       "\t Michigan       &  9883640       &  5.4           & MI            \\\\\n",
       "\t Minnesota      &  5303925       &  1.6           & MN            \\\\\n",
       "\t Mississippi    &  2967297       &  8.6           & MS            \\\\\n",
       "\t Missouri       &  5988927       &  6.6           & MO            \\\\\n",
       "\t Montana        &   989415       &  3.6           & MT            \\\\\n",
       "\t Nebraska       &  1826341       &  2.9           & NE            \\\\\n",
       "\t Nevada         &  2700551       &  6.0           & NV            \\\\\n",
       "\t New Hampshire  &  1316470       &  0.9           & NH            \\\\\n",
       "\t New Jersey     &  8791894       &  3.9           & NJ            \\\\\n",
       "\t New Mexico     &  2059179       &  4.8           & NM            \\\\\n",
       "\t New York       & 19378102       &  3.1           & NY            \\\\\n",
       "\t North Carolina &  9535483       &  5.1           & NC            \\\\\n",
       "\t North Dakota   &   672591       &  3.0           & ND            \\\\\n",
       "\t Ohio           & 11536504       &  4.0           & OH            \\\\\n",
       "\t Oklahoma       &  3751351       &  4.5           & OK            \\\\\n",
       "\t Oregon         &  3831074       &  2.0           & OR            \\\\\n",
       "\t Pennsylvania   & 12702379       &  4.8           & PA            \\\\\n",
       "\t Rhode Island   &  1052567       &  2.4           & RI            \\\\\n",
       "\t South Carolina &  4625364       &  6.4           & SC            \\\\\n",
       "\t South Dakota   &   814180       &  2.3           & SD            \\\\\n",
       "\t Tennessee      &  6346105       &  5.7           & TN            \\\\\n",
       "\t Texas          & 25145561       &  4.4           & TX            \\\\\n",
       "\t Utah           &  2763885       &  2.3           & UT            \\\\\n",
       "\t Vermont        &   625741       &  1.6           & VT            \\\\\n",
       "\t Virginia       &  8001024       &  4.1           & VA            \\\\\n",
       "\t Washington     &  6724540       &  2.5           & WA            \\\\\n",
       "\t West Virginia  &  1852994       &  4.0           & WV            \\\\\n",
       "\t Wisconsin      &  5686986       &  2.9           & WI            \\\\\n",
       "\t Wyoming        &   563626       &  2.7           & WY            \\\\\n",
       "\\end{tabular}\n"
      ],
      "text/markdown": [
       "\n",
       "State | Population | Murder.Rate | Abbreviation | \n",
       "|---|---|---|---|---|---|---|---|---|---|---|---|---|---|---|---|---|---|---|---|---|---|---|---|---|---|---|---|---|---|---|---|---|---|---|---|---|---|---|---|---|---|---|---|---|---|---|---|---|---|\n",
       "| Alabama        |  4779736       |  5.7           | AL             | \n",
       "| Alaska         |   710231       |  5.6           | AK             | \n",
       "| Arizona        |  6392017       |  4.7           | AZ             | \n",
       "| Arkansas       |  2915918       |  5.6           | AR             | \n",
       "| California     | 37253956       |  4.4           | CA             | \n",
       "| Colorado       |  5029196       |  2.8           | CO             | \n",
       "| Connecticut    |  3574097       |  2.4           | CT             | \n",
       "| Delaware       |   897934       |  5.8           | DE             | \n",
       "| Florida        | 18801310       |  5.8           | FL             | \n",
       "| Georgia        |  9687653       |  5.7           | GA             | \n",
       "| Hawaii         |  1360301       |  1.8           | HI             | \n",
       "| Idaho          |  1567582       |  2.0           | ID             | \n",
       "| Illinois       | 12830632       |  5.3           | IL             | \n",
       "| Indiana        |  6483802       |  5.0           | IN             | \n",
       "| Iowa           |  3046355       |  1.9           | IA             | \n",
       "| Kansas         |  2853118       |  3.1           | KS             | \n",
       "| Kentucky       |  4339367       |  3.6           | KY             | \n",
       "| Louisiana      |  4533372       | 10.3           | LA             | \n",
       "| Maine          |  1328361       |  1.6           | ME             | \n",
       "| Maryland       |  5773552       |  6.1           | MD             | \n",
       "| Massachusetts  |  6547629       |  2.0           | MA             | \n",
       "| Michigan       |  9883640       |  5.4           | MI             | \n",
       "| Minnesota      |  5303925       |  1.6           | MN             | \n",
       "| Mississippi    |  2967297       |  8.6           | MS             | \n",
       "| Missouri       |  5988927       |  6.6           | MO             | \n",
       "| Montana        |   989415       |  3.6           | MT             | \n",
       "| Nebraska       |  1826341       |  2.9           | NE             | \n",
       "| Nevada         |  2700551       |  6.0           | NV             | \n",
       "| New Hampshire  |  1316470       |  0.9           | NH             | \n",
       "| New Jersey     |  8791894       |  3.9           | NJ             | \n",
       "| New Mexico     |  2059179       |  4.8           | NM             | \n",
       "| New York       | 19378102       |  3.1           | NY             | \n",
       "| North Carolina |  9535483       |  5.1           | NC             | \n",
       "| North Dakota   |   672591       |  3.0           | ND             | \n",
       "| Ohio           | 11536504       |  4.0           | OH             | \n",
       "| Oklahoma       |  3751351       |  4.5           | OK             | \n",
       "| Oregon         |  3831074       |  2.0           | OR             | \n",
       "| Pennsylvania   | 12702379       |  4.8           | PA             | \n",
       "| Rhode Island   |  1052567       |  2.4           | RI             | \n",
       "| South Carolina |  4625364       |  6.4           | SC             | \n",
       "| South Dakota   |   814180       |  2.3           | SD             | \n",
       "| Tennessee      |  6346105       |  5.7           | TN             | \n",
       "| Texas          | 25145561       |  4.4           | TX             | \n",
       "| Utah           |  2763885       |  2.3           | UT             | \n",
       "| Vermont        |   625741       |  1.6           | VT             | \n",
       "| Virginia       |  8001024       |  4.1           | VA             | \n",
       "| Washington     |  6724540       |  2.5           | WA             | \n",
       "| West Virginia  |  1852994       |  4.0           | WV             | \n",
       "| Wisconsin      |  5686986       |  2.9           | WI             | \n",
       "| Wyoming        |   563626       |  2.7           | WY             | \n",
       "\n",
       "\n"
      ],
      "text/plain": [
       "   State          Population Murder.Rate Abbreviation\n",
       "1  Alabama         4779736    5.7        AL          \n",
       "2  Alaska           710231    5.6        AK          \n",
       "3  Arizona         6392017    4.7        AZ          \n",
       "4  Arkansas        2915918    5.6        AR          \n",
       "5  California     37253956    4.4        CA          \n",
       "6  Colorado        5029196    2.8        CO          \n",
       "7  Connecticut     3574097    2.4        CT          \n",
       "8  Delaware         897934    5.8        DE          \n",
       "9  Florida        18801310    5.8        FL          \n",
       "10 Georgia         9687653    5.7        GA          \n",
       "11 Hawaii          1360301    1.8        HI          \n",
       "12 Idaho           1567582    2.0        ID          \n",
       "13 Illinois       12830632    5.3        IL          \n",
       "14 Indiana         6483802    5.0        IN          \n",
       "15 Iowa            3046355    1.9        IA          \n",
       "16 Kansas          2853118    3.1        KS          \n",
       "17 Kentucky        4339367    3.6        KY          \n",
       "18 Louisiana       4533372   10.3        LA          \n",
       "19 Maine           1328361    1.6        ME          \n",
       "20 Maryland        5773552    6.1        MD          \n",
       "21 Massachusetts   6547629    2.0        MA          \n",
       "22 Michigan        9883640    5.4        MI          \n",
       "23 Minnesota       5303925    1.6        MN          \n",
       "24 Mississippi     2967297    8.6        MS          \n",
       "25 Missouri        5988927    6.6        MO          \n",
       "26 Montana          989415    3.6        MT          \n",
       "27 Nebraska        1826341    2.9        NE          \n",
       "28 Nevada          2700551    6.0        NV          \n",
       "29 New Hampshire   1316470    0.9        NH          \n",
       "30 New Jersey      8791894    3.9        NJ          \n",
       "31 New Mexico      2059179    4.8        NM          \n",
       "32 New York       19378102    3.1        NY          \n",
       "33 North Carolina  9535483    5.1        NC          \n",
       "34 North Dakota     672591    3.0        ND          \n",
       "35 Ohio           11536504    4.0        OH          \n",
       "36 Oklahoma        3751351    4.5        OK          \n",
       "37 Oregon          3831074    2.0        OR          \n",
       "38 Pennsylvania   12702379    4.8        PA          \n",
       "39 Rhode Island    1052567    2.4        RI          \n",
       "40 South Carolina  4625364    6.4        SC          \n",
       "41 South Dakota     814180    2.3        SD          \n",
       "42 Tennessee       6346105    5.7        TN          \n",
       "43 Texas          25145561    4.4        TX          \n",
       "44 Utah            2763885    2.3        UT          \n",
       "45 Vermont          625741    1.6        VT          \n",
       "46 Virginia        8001024    4.1        VA          \n",
       "47 Washington      6724540    2.5        WA          \n",
       "48 West Virginia   1852994    4.0        WV          \n",
       "49 Wisconsin       5686986    2.9        WI          \n",
       "50 Wyoming          563626    2.7        WY          "
      ]
     },
     "metadata": {},
     "output_type": "display_data"
    }
   ],
   "source": [
    "state<- read.csv(file='state.csv')\n",
    "state"
   ]
  },
  {
   "cell_type": "code",
   "execution_count": 10,
   "metadata": {},
   "outputs": [
    {
     "data": {
      "text/html": [
       "6162876.3"
      ],
      "text/latex": [
       "6162876.3"
      ],
      "text/markdown": [
       "6162876.3"
      ],
      "text/plain": [
       "[1] 6162876"
      ]
     },
     "metadata": {},
     "output_type": "display_data"
    },
    {
     "data": {
      "text/html": [
       "4783697.125"
      ],
      "text/latex": [
       "4783697.125"
      ],
      "text/markdown": [
       "4783697.125"
      ],
      "text/plain": [
       "[1] 4783697"
      ]
     },
     "metadata": {},
     "output_type": "display_data"
    }
   ],
   "source": [
    "mean(state[['Population']])\n",
    "mean(state[['Population']], trim=0.1)"
   ]
  },
  {
   "cell_type": "markdown",
   "metadata": {},
   "source": [
    "#### average murder rate fro country"
   ]
  },
  {
   "cell_type": "code",
   "execution_count": 16,
   "metadata": {},
   "outputs": [],
   "source": [
    "#install.packages('matrixStats')\n",
    "library('matrixStats')"
   ]
  },
  {
   "cell_type": "code",
   "execution_count": 18,
   "metadata": {},
   "outputs": [
    {
     "data": {
      "text/html": [
       "4.44583398112339"
      ],
      "text/latex": [
       "4.44583398112339"
      ],
      "text/markdown": [
       "4.44583398112339"
      ],
      "text/plain": [
       "[1] 4.445834"
      ]
     },
     "metadata": {},
     "output_type": "display_data"
    },
    {
     "data": {
      "text/html": [
       "4.4"
      ],
      "text/latex": [
       "4.4"
      ],
      "text/markdown": [
       "4.4"
      ],
      "text/plain": [
       "[1] 4.4"
      ]
     },
     "metadata": {},
     "output_type": "display_data"
    }
   ],
   "source": [
    "weighted.mean(state[['Murder.Rate']], w= state[['Population']])\n",
    "weightedMedian(state[['Murder.Rate']], w= state[['Population']])"
   ]
  },
  {
   "cell_type": "markdown",
   "metadata": {},
   "source": [
    "## Percentiles and Boxplots\n"
   ]
  },
  {
   "cell_type": "code",
   "execution_count": 24,
   "metadata": {},
   "outputs": [
    {
     "data": {
      "text/html": [
       "<dl class=dl-horizontal>\n",
       "\t<dt>5%</dt>\n",
       "\t\t<dd>1.6</dd>\n",
       "\t<dt>25%</dt>\n",
       "\t\t<dd>2.425</dd>\n",
       "\t<dt>50%</dt>\n",
       "\t\t<dd>4</dd>\n",
       "\t<dt>95%</dt>\n",
       "\t\t<dd>6.51</dd>\n",
       "</dl>\n"
      ],
      "text/latex": [
       "\\begin{description*}\n",
       "\\item[5\\textbackslash{}\\%] 1.6\n",
       "\\item[25\\textbackslash{}\\%] 2.425\n",
       "\\item[50\\textbackslash{}\\%] 4\n",
       "\\item[95\\textbackslash{}\\%] 6.51\n",
       "\\end{description*}\n"
      ],
      "text/markdown": [
       "5%\n",
       ":   1.625%\n",
       ":   2.42550%\n",
       ":   495%\n",
       ":   6.51\n",
       "\n"
      ],
      "text/plain": [
       "   5%   25%   50%   95% \n",
       "1.600 2.425 4.000 6.510 "
      ]
     },
     "metadata": {},
     "output_type": "display_data"
    }
   ],
   "source": [
    "quantile(state[['Murder.Rate']], p=c(.05, .25, .5, .95))"
   ]
  },
  {
   "cell_type": "code",
   "execution_count": 25,
   "metadata": {},
   "outputs": [
    {
     "data": {
      "image/png": "[encoded data removed]",
      "text/plain": [
       "plot without title"
      ]
     },
     "metadata": {},
     "output_type": "display_data"
    }
   ],
   "source": [
    "boxplot(state[['Population']]/1000000, ylab='Population(millions)')"
   ]
  }
 ],
 "metadata": {
  "kernelspec": {
   "display_name": "R",
   "language": "R",
   "name": "ir"
  },
  "language_info": {
   "codemirror_mode": "r",
   "file_extension": ".r",
   "mimetype": "text/x-r-source",
   "name": "R",
   "pygments_lexer": "r",
   "version": "3.5.1"
  }
 },
 "nbformat": 4,
 "nbformat_minor": 2
}
