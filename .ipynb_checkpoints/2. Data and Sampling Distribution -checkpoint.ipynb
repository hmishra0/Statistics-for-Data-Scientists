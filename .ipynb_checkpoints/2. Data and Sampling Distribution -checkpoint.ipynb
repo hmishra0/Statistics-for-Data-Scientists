{
 "cells": [
  {
   "cell_type": "code",
   "execution_count": 4,
   "metadata": {},
   "outputs": [],
   "source": [
    "state<- read.csv('data/state.csv')\n",
    "dfw <- read.csv('data/dfw_airline.csv')\n",
    "sp500_px <- read.csv('data/sp500_px.csv')\n",
    "sp500_sym <- read.csv('data/sp500_sym.csv')\n",
    "kc_tax <- read.csv('data/kc_tax.csv')\n",
    "lc_loans <- read.csv('data/lc_loans.csv')\n",
    "airline_stats <- read.csv('data/airline_stats.csv')\n",
    "airline_stats$airline <- ordered(airline_stats$airline, levels=c('Alaska', 'American', 'Jet Blue', 'Delta', 'United', 'Southwest'))\n",
    "loans_income <- read.csv('data/loans_income.csv')[,1]"
   ]
  },
  {
   "cell_type": "code",
   "execution_count": 15,
   "metadata": {},
   "outputs": [],
   "source": [
    "library(ggplot2)"
   ]
  },
  {
   "cell_type": "code",
   "execution_count": 16,
   "metadata": {},
   "outputs": [],
   "source": [
    "samp_data <- data.frame(income= sample(loans_income, 1000), type= 'data_dist')"
   ]
  },
  {
   "cell_type": "code",
   "execution_count": 17,
   "metadata": {},
   "outputs": [],
   "source": [
    "samp_mean_05 <- data.frame(income = tapply(sample(loans_income, 1000*5), rep(1:1000, rep(5, 1000)), FUN = mean), type = \"mean_of_5\")"
   ]
  },
  {
   "cell_type": "code",
   "execution_count": 18,
   "metadata": {},
   "outputs": [],
   "source": [
    "samp_mean_20 <- data.frame(income = tapply(sample(loans_income, 1000*20), rep(1:1000, rep(20, 1000)), FUN = mean), type = \"mean_of_20\")"
   ]
  },
  {
   "cell_type": "code",
   "execution_count": 20,
   "metadata": {},
   "outputs": [
    {
     "ename": "ERROR",
     "evalue": "Error in factor(income$type, levels = c(\"data_dist\", \"mean_of_05\", \"mean_of_20\"), : formal argument \"levels\" matched by multiple actual arguments\n",
     "output_type": "error",
     "traceback": [
      "Error in factor(income$type, levels = c(\"data_dist\", \"mean_of_05\", \"mean_of_20\"), : formal argument \"levels\" matched by multiple actual arguments\nTraceback:\n"
     ]
    }
   ],
   "source": [
    "income <- rbind(samp_data, samp_mean_05, samp_mean_20)\n",
    "income$type <- factor(income$type, \n",
    "                     levels=c(\"data_dist\", \"mean_of_05\", \"mean_of_20\"),\n",
    "                      levels=c(\"data\", \"mean of 5\", \"mean of 20\"))\n",
    "                    "
   ]
  },
  {
   "cell_type": "code",
   "execution_count": 21,
   "metadata": {},
   "outputs": [
    {
     "data": {},
     "metadata": {},
     "output_type": "display_data"
    },
    {
     "data": {
      "image/png": "[encoded data removed]",
      "text/plain": [
       "plot without title"
      ]
     },
     "metadata": {},
     "output_type": "display_data"
    }
   ],
   "source": [
    "ggplot(income, aes(x=income)) +\n",
    "geom_histogram(bins = 40) +\n",
    "facet_grid(type ~ .)"
   ]
  },
  {
   "cell_type": "markdown",
   "metadata": {},
   "source": [
    "### Bootstrap"
   ]
  },
  {
   "cell_type": "code",
   "execution_count": 22,
   "metadata": {},
   "outputs": [],
   "source": [
    "library(boot)"
   ]
  },
  {
   "cell_type": "code",
   "execution_count": null,
   "metadata": {},
   "outputs": [],
   "source": []
  }
 ],
 "metadata": {
  "kernelspec": {
   "display_name": "R",
   "language": "R",
   "name": "ir"
  },
  "language_info": {
   "codemirror_mode": "r",
   "file_extension": ".r",
   "mimetype": "text/x-r-source",
   "name": "R",
   "pygments_lexer": "r",
   "version": "3.5.1"
  }
 },
 "nbformat": 4,
 "nbformat_minor": 2
}
